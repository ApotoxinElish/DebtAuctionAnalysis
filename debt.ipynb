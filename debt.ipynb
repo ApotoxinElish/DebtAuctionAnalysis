{
 "cells": [
  {
   "cell_type": "code",
   "execution_count": 1,
   "metadata": {},
   "outputs": [],
   "source": [
    "import pandas as pd\n",
    "import matplotlib.pyplot as plt\n",
    "\n",
    "tarpath = r\"maker.liquidation.debt.20220403.csv\"\n",
    "target = pd.read_csv(tarpath)\n"
   ]
  },
  {
   "cell_type": "code",
   "execution_count": 2,
   "id": "7ff355ed",
   "metadata": {},
   "outputs": [
    {
     "data": {
      "text/plain": [
       "(522, 15)"
      ]
     },
     "execution_count": 2,
     "metadata": {},
     "output_type": "execute_result"
    }
   ],
   "source": [
    "target.head()\n",
    "target.shape\n"
   ]
  },
  {
   "cell_type": "code",
   "execution_count": 3,
   "id": "4a690918",
   "metadata": {},
   "outputs": [
    {
     "data": {
      "text/plain": [
       "0        1\n",
       "1        1\n",
       "2        1\n",
       "3        1\n",
       "4        1\n",
       "      ... \n",
       "517    106\n",
       "518    106\n",
       "519    106\n",
       "520    106\n",
       "521    106\n",
       "Name: debt_auction_id, Length: 522, dtype: int64"
      ]
     },
     "execution_count": 3,
     "metadata": {},
     "output_type": "execute_result"
    }
   ],
   "source": [
    "target.debt_auction_id\n"
   ]
  },
  {
   "cell_type": "code",
   "execution_count": 4,
   "id": "151f075f",
   "metadata": {},
   "outputs": [
    {
     "data": {
      "text/plain": [
       "0      2020/03/19 14:38:03\n",
       "1      2020/03/19 14:38:03\n",
       "2      2020/03/19 14:38:03\n",
       "3      2020/03/19 14:38:03\n",
       "4      2020/03/19 14:38:03\n",
       "              ...         \n",
       "517    2020/03/27 16:03:24\n",
       "518    2020/03/27 16:03:24\n",
       "519    2020/03/27 16:03:24\n",
       "520    2020/03/27 16:03:24\n",
       "521    2020/03/27 16:03:24\n",
       "Name: kick_time, Length: 522, dtype: object"
      ]
     },
     "execution_count": 4,
     "metadata": {},
     "output_type": "execute_result"
    }
   ],
   "source": [
    "target.deal_time\n",
    "target.dent_time\n",
    "target.kick_time\n",
    "# type(target.kick_time[0])\n"
   ]
  },
  {
   "cell_type": "code",
   "execution_count": 5,
   "id": "b45d71d8",
   "metadata": {},
   "outputs": [
    {
     "data": {
      "text/plain": [
       "0      242.000000\n",
       "1      234.951456\n",
       "2      222.222222\n",
       "3      215.749730\n",
       "4      209.465758\n",
       "          ...    \n",
       "517    183.533784\n",
       "518    178.188140\n",
       "519    172.998194\n",
       "520    167.000000\n",
       "521     16.182300\n",
       "Name: dent_lot, Length: 522, dtype: float64"
      ]
     },
     "execution_count": 5,
     "metadata": {},
     "output_type": "execute_result"
    }
   ],
   "source": [
    "id = target.debt_auction_id\n",
    "dealTime = pd.to_datetime(target.deal_time, format=\"%Y/%m/%d %H:%M:%S\")\n",
    "\n",
    "kickTime = pd.to_datetime(target.kick_time, format=\"%Y/%m/%d %H:%M:%S\")\n",
    "# .dt.strftime(\"%Y-%m-%d\")\n",
    "dentTime = pd.to_datetime(target.dent_time, format=\"%Y/%m/%d %H:%M:%S\")\n",
    "# .dt.strftime(\"%Y-%m-%d\")\n",
    "# dealTime[0] - dealTime[1]\n",
    "dentLot = target.dent_lot\n",
    "dentLot\n"
   ]
  },
  {
   "cell_type": "code",
   "execution_count": 51,
   "id": "51891968",
   "metadata": {},
   "outputs": [
    {
     "name": "stdout",
     "output_type": "stream",
     "text": [
      "106\n"
     ]
    },
    {
     "data": {
      "text/html": [
       "<div>\n",
       "<style scoped>\n",
       "    .dataframe tbody tr th:only-of-type {\n",
       "        vertical-align: middle;\n",
       "    }\n",
       "\n",
       "    .dataframe tbody tr th {\n",
       "        vertical-align: top;\n",
       "    }\n",
       "\n",
       "    .dataframe thead th {\n",
       "        text-align: right;\n",
       "    }\n",
       "</style>\n",
       "<table border=\"1\" class=\"dataframe\">\n",
       "  <thead>\n",
       "    <tr style=\"text-align: right;\">\n",
       "      <th></th>\n",
       "      <th>deal_kick</th>\n",
       "      <th>lot_differ</th>\n",
       "      <th>lot_end</th>\n",
       "    </tr>\n",
       "    <tr>\n",
       "      <th>id</th>\n",
       "      <th></th>\n",
       "      <th></th>\n",
       "      <th></th>\n",
       "    </tr>\n",
       "  </thead>\n",
       "  <tbody>\n",
       "    <tr>\n",
       "      <th>1</th>\n",
       "      <td>30.366944</td>\n",
       "      <td>69.332564</td>\n",
       "      <td>172.667436</td>\n",
       "    </tr>\n",
       "    <tr>\n",
       "      <th>2</th>\n",
       "      <td>30.467500</td>\n",
       "      <td>69.348066</td>\n",
       "      <td>172.651934</td>\n",
       "    </tr>\n",
       "    <tr>\n",
       "      <th>3</th>\n",
       "      <td>30.051667</td>\n",
       "      <td>69.332564</td>\n",
       "      <td>172.667436</td>\n",
       "    </tr>\n",
       "    <tr>\n",
       "      <th>4</th>\n",
       "      <td>20.377500</td>\n",
       "      <td>52.968210</td>\n",
       "      <td>188.679245</td>\n",
       "    </tr>\n",
       "    <tr>\n",
       "      <th>5</th>\n",
       "      <td>20.288333</td>\n",
       "      <td>53.320755</td>\n",
       "      <td>188.679245</td>\n",
       "    </tr>\n",
       "    <tr>\n",
       "      <th>...</th>\n",
       "      <td>...</td>\n",
       "      <td>...</td>\n",
       "      <td>...</td>\n",
       "    </tr>\n",
       "    <tr>\n",
       "      <th>102</th>\n",
       "      <td>33.546111</td>\n",
       "      <td>75.340633</td>\n",
       "      <td>166.659367</td>\n",
       "    </tr>\n",
       "    <tr>\n",
       "      <th>103</th>\n",
       "      <td>19.223889</td>\n",
       "      <td>60.181818</td>\n",
       "      <td>181.818182</td>\n",
       "    </tr>\n",
       "    <tr>\n",
       "      <th>104</th>\n",
       "      <td>19.088333</td>\n",
       "      <td>60.181818</td>\n",
       "      <td>181.818182</td>\n",
       "    </tr>\n",
       "    <tr>\n",
       "      <th>105</th>\n",
       "      <td>12.231667</td>\n",
       "      <td>64.500000</td>\n",
       "      <td>177.500000</td>\n",
       "    </tr>\n",
       "    <tr>\n",
       "      <th>106</th>\n",
       "      <td>33.645833</td>\n",
       "      <td>75.000000</td>\n",
       "      <td>167.000000</td>\n",
       "    </tr>\n",
       "  </tbody>\n",
       "</table>\n",
       "<p>106 rows × 3 columns</p>\n",
       "</div>"
      ],
      "text/plain": [
       "     deal_kick  lot_differ     lot_end\n",
       "id                                    \n",
       "1    30.366944   69.332564  172.667436\n",
       "2    30.467500   69.348066  172.651934\n",
       "3    30.051667   69.332564  172.667436\n",
       "4    20.377500   52.968210  188.679245\n",
       "5    20.288333   53.320755  188.679245\n",
       "..         ...         ...         ...\n",
       "102  33.546111   75.340633  166.659367\n",
       "103  19.223889   60.181818  181.818182\n",
       "104  19.088333   60.181818  181.818182\n",
       "105  12.231667   64.500000  177.500000\n",
       "106  33.645833   75.000000  167.000000\n",
       "\n",
       "[106 rows x 3 columns]"
      ]
     },
     "execution_count": 51,
     "metadata": {},
     "output_type": "execute_result"
    }
   ],
   "source": [
    "lastid = 1\n",
    "lastindex = 0\n",
    "\n",
    "result = []\n",
    "\n",
    "import numpy as np\n",
    "\n",
    "for index in range(len(id)):\n",
    "    if id[index] != lastid or index == len(id) - 1:\n",
    "        # kick_time = kickTime[lastindex].strftime(\"%Y-%m-%d\")\n",
    "\n",
    "        deal_kick = dealTime[index - 1] - kickTime[lastindex]\n",
    "        deal_kick /= np.timedelta64(1, \"h\")\n",
    "\n",
    "        # deal_dent = dealTime[index - 1] - dentTime[lastindex]\n",
    "        # deal_dent /= np.timedelta64(1, \"h\")\n",
    "\n",
    "        lot_start = dentLot[lastindex]\n",
    "        lot_ent = dentLot[index - 1]\n",
    "        lot_differ = lot_start - lot_ent\n",
    "\n",
    "        result.append((lastid, deal_kick, lot_differ, lot_ent))\n",
    "\n",
    "        lastid = id[index]\n",
    "        lastindex = index\n",
    "        # print(lastid, lastindex)\n",
    "\n",
    "result = pd.DataFrame(\n",
    "    result,\n",
    "    columns=[\"id\", \"deal_kick\", \"lot_differ\", \"lot_end\"],\n",
    ")\n",
    "\n",
    "print(len(result))\n",
    "\n",
    "result.set_index(\"id\", drop=True, inplace=True)\n",
    "\n",
    "result\n"
   ]
  },
  {
   "cell_type": "code",
   "execution_count": 30,
   "id": "3728a980",
   "metadata": {},
   "outputs": [
    {
     "data": {
      "text/html": [
       "<div>\n",
       "<style scoped>\n",
       "    .dataframe tbody tr th:only-of-type {\n",
       "        vertical-align: middle;\n",
       "    }\n",
       "\n",
       "    .dataframe tbody tr th {\n",
       "        vertical-align: top;\n",
       "    }\n",
       "\n",
       "    .dataframe thead th {\n",
       "        text-align: right;\n",
       "    }\n",
       "</style>\n",
       "<table border=\"1\" class=\"dataframe\">\n",
       "  <thead>\n",
       "    <tr style=\"text-align: right;\">\n",
       "      <th></th>\n",
       "      <th>deal-kick</th>\n",
       "      <th>deal-dent</th>\n",
       "      <th>lot_differ</th>\n",
       "    </tr>\n",
       "    <tr>\n",
       "      <th>kick_time</th>\n",
       "      <th></th>\n",
       "      <th></th>\n",
       "      <th></th>\n",
       "    </tr>\n",
       "  </thead>\n",
       "  <tbody>\n",
       "    <tr>\n",
       "      <th>2020-03-19</th>\n",
       "      <td>18.250285</td>\n",
       "      <td>18.237604</td>\n",
       "      <td>56.247122</td>\n",
       "    </tr>\n",
       "    <tr>\n",
       "      <th>2020-03-22</th>\n",
       "      <td>8.475354</td>\n",
       "      <td>8.234819</td>\n",
       "      <td>15.478621</td>\n",
       "    </tr>\n",
       "    <tr>\n",
       "      <th>2020-03-23</th>\n",
       "      <td>12.088148</td>\n",
       "      <td>12.088148</td>\n",
       "      <td>26.891144</td>\n",
       "    </tr>\n",
       "    <tr>\n",
       "      <th>2020-03-27</th>\n",
       "      <td>20.682764</td>\n",
       "      <td>20.357639</td>\n",
       "      <td>66.514793</td>\n",
       "    </tr>\n",
       "  </tbody>\n",
       "</table>\n",
       "</div>"
      ],
      "text/plain": [
       "            deal-kick  deal-dent  lot_differ\n",
       "kick_time                                   \n",
       "2020-03-19  18.250285  18.237604   56.247122\n",
       "2020-03-22   8.475354   8.234819   15.478621\n",
       "2020-03-23  12.088148  12.088148   26.891144\n",
       "2020-03-27  20.682764  20.357639   66.514793"
      ]
     },
     "execution_count": 30,
     "metadata": {},
     "output_type": "execute_result"
    }
   ],
   "source": [
    "# result = result.groupby(level=0).mean()\n",
    "# result"
   ]
  },
  {
   "cell_type": "code",
   "execution_count": 61,
   "id": "fcc464e3",
   "metadata": {},
   "outputs": [
    {
     "data": {
      "text/plain": [
       "[<matplotlib.lines.Line2D at 0x1ba64fbde20>]"
      ]
     },
     "execution_count": 61,
     "metadata": {},
     "output_type": "execute_result"
    },
    {
     "data": {
      "image/png": "[encoded data removed]",
      "text/plain": [
       "<Figure size 432x288 with 2 Axes>"
      ]
     },
     "metadata": {
      "needs_background": "light"
     },
     "output_type": "display_data"
    }
   ],
   "source": [
    "fig, (ax0, ax1) = plt.subplots(nrows=2)\n",
    "ax0.plot(\n",
    "    result.index, result.deal_kick\n",
    ")  # color=\"darkorange\", marker=\"o\", linestyle=\"dashed\")\n",
    "\n",
    "\n",
    "ax1.plot(result.index, result.lot_differ)\n"
   ]
  }
 ],
 "metadata": {
  "interpreter": {
   "hash": "f7976576504ac6c456dadd405d7477574ca2a64265ee4724cfbc25daae5f6d94"
  },
  "kernelspec": {
   "display_name": "Python 3.9.7 64-bit",
   "language": "python",
   "name": "python3"
  },
  "language_info": {
   "codemirror_mode": {
    "name": "ipython",
    "version": 3
   },
   "file_extension": ".py",
   "mimetype": "text/x-python",
   "name": "python",
   "nbconvert_exporter": "python",
   "pygments_lexer": "ipython3",
   "version": "3.9.7"
  }
 },
 "nbformat": 4,
 "nbformat_minor": 5
}
